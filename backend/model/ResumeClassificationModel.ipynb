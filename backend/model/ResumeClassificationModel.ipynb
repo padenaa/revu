{
 "cells": [
  {
   "cell_type": "markdown",
   "id": "46b82927",
   "metadata": {},
   "source": [
    "**Initial Setup**"
   ]
  },
  {
   "cell_type": "code",
   "execution_count": 19,
   "id": "7d589cff",
   "metadata": {},
   "outputs": [
    {
     "name": "stdout",
     "output_type": "stream",
     "text": [
      "size: (962, 2)\n"
     ]
    },
    {
     "data": {
      "text/html": [
       "<div>\n",
       "<style scoped>\n",
       "    .dataframe tbody tr th:only-of-type {\n",
       "        vertical-align: middle;\n",
       "    }\n",
       "\n",
       "    .dataframe tbody tr th {\n",
       "        vertical-align: top;\n",
       "    }\n",
       "\n",
       "    .dataframe thead th {\n",
       "        text-align: right;\n",
       "    }\n",
       "</style>\n",
       "<table border=\"1\" class=\"dataframe\">\n",
       "  <thead>\n",
       "    <tr style=\"text-align: right;\">\n",
       "      <th></th>\n",
       "      <th>Category</th>\n",
       "      <th>Resume</th>\n",
       "    </tr>\n",
       "  </thead>\n",
       "  <tbody>\n",
       "    <tr>\n",
       "      <th>count</th>\n",
       "      <td>962</td>\n",
       "      <td>962</td>\n",
       "    </tr>\n",
       "    <tr>\n",
       "      <th>unique</th>\n",
       "      <td>25</td>\n",
       "      <td>166</td>\n",
       "    </tr>\n",
       "    <tr>\n",
       "      <th>top</th>\n",
       "      <td>Java Developer</td>\n",
       "      <td>Technical Skills Web Technologies: Angular JS,...</td>\n",
       "    </tr>\n",
       "    <tr>\n",
       "      <th>freq</th>\n",
       "      <td>84</td>\n",
       "      <td>18</td>\n",
       "    </tr>\n",
       "  </tbody>\n",
       "</table>\n",
       "</div>"
      ],
      "text/plain": [
       "              Category                                             Resume\n",
       "count              962                                                962\n",
       "unique              25                                                166\n",
       "top     Java Developer  Technical Skills Web Technologies: Angular JS,...\n",
       "freq                84                                                 18"
      ]
     },
     "execution_count": 19,
     "metadata": {},
     "output_type": "execute_result"
    }
   ],
   "source": [
    "import pandas as pd\n",
    "from sklearn import preprocessing\n",
    "from sklearn.preprocessing import StandardScaler\n",
    "from sklearn.neighbors import KNeighborsClassifier\n",
    "from sklearn.model_selection import train_test_split\n",
    "from sklearn.metrics import accuracy_score\n",
    "\n",
    "# data imported from https://www.kaggle.com/datasets/gauravduttakiit/resume-dataset?resource=download\n",
    "data = pd.read_csv(\"UpdatedResumeDataSet.csv\") \n",
    "\n",
    "#clean the data:\n",
    "data = data.dropna()\n",
    "\n",
    "print(\"size:\", data.shape)\n",
    "data.describe()"
   ]
  },
  {
   "cell_type": "markdown",
   "id": "1bd03a53",
   "metadata": {},
   "source": [
    "**Populate X, y, and testing variables**"
   ]
  },
  {
   "cell_type": "code",
   "execution_count": 20,
   "id": "5421b7c9",
   "metadata": {},
   "outputs": [],
   "source": [
    "# bag of words to convert the resumes to data\n",
    "\n",
    "from sklearn.feature_extraction.text import CountVectorizer\n",
    "from sklearn.feature_extraction.text import TfidfTransformer\n",
    "\n",
    "vect = CountVectorizer(max_features=200, stop_words='english')\n",
    "X = vect.fit_transform(data[\"Resume\"]) #vectorize by frequency of words\n",
    "\n",
    "tfidf = TfidfTransformer()\n",
    "X = tfidf.fit_transform(X) #remove filler words like \"the\"\n",
    "\n",
    "# y variable \n",
    "data = data[['Category']].copy() \n",
    "data['Category_encoded'] = data[\"Category\"].astype(str)\n",
    "le = preprocessing.LabelEncoder()\n",
    "data['Category_encoded'] = le.fit_transform(data[\"Category\"])\n",
    "y = data[\"Category_encoded\"]\n",
    "\n",
    "X_train, X_test, y_train, y_test = train_test_split(X, y, test_size=0.1)"
   ]
  },
  {
   "cell_type": "markdown",
   "id": "dd10deff",
   "metadata": {},
   "source": [
    "**Train and Test Model**"
   ]
  },
  {
   "cell_type": "code",
   "execution_count": 21,
   "id": "cbfb7ec7",
   "metadata": {},
   "outputs": [
    {
     "name": "stderr",
     "output_type": "stream",
     "text": [
      "C:\\Users\\paden\\AppData\\Roaming\\Python\\Python310\\site-packages\\sklearn\\neighbors\\_classification.py:237: FutureWarning: Unlike other reduction functions (e.g. `skew`, `kurtosis`), the default behavior of `mode` typically preserves the axis it acts along. In SciPy 1.11.0, this behavior will change: the default value of `keepdims` will become False, the `axis` over which the statistic is taken will be eliminated, and the value None will no longer be accepted. Set `keepdims` to True or False to avoid this warning.\n",
      "  mode, _ = stats.mode(_y[neigh_ind, k], axis=1)\n"
     ]
    },
    {
     "data": {
      "text/plain": [
       "0.8247422680412371"
      ]
     },
     "execution_count": 21,
     "metadata": {},
     "output_type": "execute_result"
    }
   ],
   "source": [
    "from sklearn.metrics import accuracy_score\n",
    "\n",
    "model = KNeighborsClassifier(n_neighbors = 11)\n",
    "model.fit(X_train, y_train)\n",
    "predictions = model.predict(X_test)\n",
    "accuracy_score(y_test, predictions)"
   ]
  },
  {
   "cell_type": "code",
   "execution_count": 22,
   "id": "a603cf6b",
   "metadata": {},
   "outputs": [
    {
     "name": "stdout",
     "output_type": "stream",
     "text": [
      "              precision    recall  f1-score   support\n",
      "\n",
      "           0       0.00      0.00      0.00         2\n",
      "           1       0.80      0.44      0.57         9\n",
      "           2       1.00      0.67      0.80         3\n",
      "           3       0.50      1.00      0.67         1\n",
      "           4       1.00      0.50      0.67         2\n",
      "           5       1.00      0.50      0.67         2\n",
      "           6       0.67      0.80      0.73         5\n",
      "           7       1.00      0.75      0.86         4\n",
      "           8       1.00      1.00      1.00         7\n",
      "           9       1.00      1.00      1.00         2\n",
      "          10       1.00      1.00      1.00         4\n",
      "          11       0.83      1.00      0.91         5\n",
      "          12       0.20      0.33      0.25         3\n",
      "          13       1.00      1.00      1.00         5\n",
      "          14       0.33      0.33      0.33         3\n",
      "          15       1.00      0.86      0.92         7\n",
      "          16       1.00      1.00      1.00         4\n",
      "          17       1.00      1.00      1.00         2\n",
      "          18       0.75      1.00      0.86         3\n",
      "          19       0.80      1.00      0.89         4\n",
      "          20       1.00      1.00      1.00         6\n",
      "          21       0.67      1.00      0.80         2\n",
      "          22       1.00      1.00      1.00         1\n",
      "          23       0.67      1.00      0.80         6\n",
      "          24       1.00      1.00      1.00         5\n",
      "\n",
      "    accuracy                           0.82        97\n",
      "   macro avg       0.81      0.81      0.79        97\n",
      "weighted avg       0.84      0.82      0.82        97\n",
      "\n"
     ]
    },
    {
     "name": "stderr",
     "output_type": "stream",
     "text": [
      "C:\\Users\\paden\\AppData\\Roaming\\Python\\Python310\\site-packages\\sklearn\\metrics\\_classification.py:1327: UndefinedMetricWarning: Precision and F-score are ill-defined and being set to 0.0 in labels with no predicted samples. Use `zero_division` parameter to control this behavior.\n",
      "  _warn_prf(average, modifier, msg_start, len(result))\n",
      "C:\\Users\\paden\\AppData\\Roaming\\Python\\Python310\\site-packages\\sklearn\\metrics\\_classification.py:1327: UndefinedMetricWarning: Precision and F-score are ill-defined and being set to 0.0 in labels with no predicted samples. Use `zero_division` parameter to control this behavior.\n",
      "  _warn_prf(average, modifier, msg_start, len(result))\n",
      "C:\\Users\\paden\\AppData\\Roaming\\Python\\Python310\\site-packages\\sklearn\\metrics\\_classification.py:1327: UndefinedMetricWarning: Precision and F-score are ill-defined and being set to 0.0 in labels with no predicted samples. Use `zero_division` parameter to control this behavior.\n",
      "  _warn_prf(average, modifier, msg_start, len(result))\n"
     ]
    }
   ],
   "source": [
    "from sklearn.metrics import classification_report\n",
    "print(classification_report(y_test, predictions))"
   ]
  },
  {
   "cell_type": "code",
   "execution_count": 23,
   "id": "93aa2ef0",
   "metadata": {},
   "outputs": [
    {
     "data": {
      "text/plain": [
       "['resume-classifier']"
      ]
     },
     "execution_count": 23,
     "metadata": {},
     "output_type": "execute_result"
    }
   ],
   "source": [
    "import joblib\n",
    "joblib.dump(model,  \"resume-classifier\")"
   ]
  }
 ],
 "metadata": {
  "kernelspec": {
   "display_name": "Python 3 (ipykernel)",
   "language": "python",
   "name": "python3"
  },
  "language_info": {
   "codemirror_mode": {
    "name": "ipython",
    "version": 3
   },
   "file_extension": ".py",
   "mimetype": "text/x-python",
   "name": "python",
   "nbconvert_exporter": "python",
   "pygments_lexer": "ipython3",
   "version": "3.10.5"
  }
 },
 "nbformat": 4,
 "nbformat_minor": 5
}
